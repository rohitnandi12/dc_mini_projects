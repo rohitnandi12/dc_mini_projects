{
 "cells": [
  {
   "cell_type": "markdown",
   "metadata": {},
   "source": [
    "# Frequencies of words in novels: a Data Science pipeline\n",
    "[Link](https://github.com/datacamp/datacamp_facebook_live_nlp/blob/master/NLP_FB_live_coding_soln_verbose.ipynb)"
   ]
  },
  {
   "cell_type": "markdown",
   "metadata": {},
   "source": [
    "Earlier this week, I did a Facebook Live Code along session. In it, we used some basic Natural Language Processing to plot the most frequently occurring words in the novel _Moby Dick_. In doing so, we also see the efficacy of thinking in terms of the following Data Science pipeline with a constant regard for process:\n",
    "1. State your question;\n",
    "2. Get your data;\n",
    "3. Wrangle your data to answer your question;\n",
    "4. Answer your question;\n",
    "5. Present your solution so that others can understand it.\n",
    "\n",
    "In this live post, you'll learn how to build a data science pipeline to plot frequency distributions of words in *Moby Dick*, among many other novels.\n",
    "\n",
    "We won't give you the novels: you'll learn to scrape them from the website [Project Gutenberg](https://www.gutenberg.org/) (which basically contains a large corpus of books) using the Python package `requests` and how to extract the novels from this web data using `BeautifulSoup`. Then you'll dive in to analyzing the novels using the Natural Language ToolKit (`nltk`). In the process, you'll learn about important aspects of Natural Language Processing (NLP) such as tokenization and stopwords.\n",
    "\n",
    "You'll come out being able to visualize word frequency distributions of any novel that you can find on Project Gutenberg. The NLP skills you develop, however, will be applicable to much of the data that data scientists encounter as the vast proportion of the world's data is unstructured data and includes a great deal of text.\n",
    "\n",
    "For example, what would the following word frequency distribution be from?\n",
    "\n",
    "<img src=\"img/d-x.png\" width=\"350\">\n",
    "\n",
    "This post was generated from a Jupyter Notebook; You can find it in [this repository](https://github.com/datacamp/datacamp_facebook_live_nlp/). If you have any thoughts, responses and/or ruminations, feel free to reach out to me on twitter: [@hugobowne](https://twitter.com/hugobowne)."
   ]
  },
  {
   "cell_type": "markdown",
   "metadata": {},
   "source": [
    "## Pre-steps\n",
    "\n",
    "Follow the instructions in the README.md to get your system set up and ready to go."
   ]
  },
  {
   "cell_type": "markdown",
   "metadata": {},
   "source": [
    "## 1. State Your Question\n",
    "\n",
    "What are the most frequent words in the novel _Moby Dick_ and how often do they occur?"
   ]
  },
  {
   "cell_type": "markdown",
   "metadata": {},
   "source": [
    "## 2. Get Your Data"
   ]
  },
  {
   "cell_type": "markdown",
   "metadata": {},
   "source": [
    "Your raw data is the text of Melville's novel _Moby Dick_. How would you go about getting the text of this ~800 word book into Python? \n",
    "\n",
    "Well, there are several ways to do this but first realize that the text is freely available online at [Project Gutenberg](https://www.gutenberg.org/). Let's head there, try to find _Moby Dick_ and then store the relevant URL in your Python namespace:"
   ]
  },
  {
   "cell_type": "code",
   "execution_count": 1,
   "metadata": {},
   "outputs": [],
   "source": [
    "# Store url\n",
    "url = 'https://www.gutenberg.org/files/2701/2701-h/2701-h.htm'"
   ]
  },
  {
   "cell_type": "markdown",
   "metadata": {},
   "source": [
    "Now that you have the URL, you need to fetch the HTML of the website. \n",
    "\n",
    "**Note** that HTML stands for Hypertext Markup Language and is the standard markup language for the web.\n",
    "\n",
    "\n",
    "You're going to use [`requests`](http://docs.python-requests.org/en/master/) to do this, one of the [most popular](https://pythontips.com/2013/07/30/20-python-libraries-you-cant-live-without/) and useful Python packages out there.\n",
    "You can find out more in DataCamp's [Importing Data in Python (Part 2) course](https://www.datacamp.com/courses/importing-data-in-python-part-2). \n",
    "\n",
    "<img src=\"img/requests.png\" width=\"200\">\n",
    "\n",
    "According to the `requests` package website:\n",
    "\n",
    "> Requests allows you to send organic, grass-fed HTTP/1.1 requests, without the need for manual labor.\n",
    "\n",
    "and the following organizations claim to use `requests` internally:\n",
    "\n",
    "> Her Majesty's Government, Amazon, Google, Twilio, NPR, Obama for America,  Twitter, Sony, and Federal U.S. Institutions that prefer to be unnamed.\n",
    "\n",
    "Moreover,\n",
    "\n",
    "> Requests is one of the most downloaded Python packages of all time, pulling in over 13,000,000 downloads every month. All the cool kids are doing it!\n",
    "\n",
    "You'll be making a `GET` request from the website, which means you're _getting_ data from it. This is what you're doing through a browser when visiting a webpage using a browser. There are other types of requests, such as `POST` requests, but we won't concern ourselves with them here.\n",
    "\n",
    "`requests` make this easy with its `get` function. Make the request here and check the object type returned."
   ]
  },
  {
   "cell_type": "code",
   "execution_count": 2,
   "metadata": {},
   "outputs": [
    {
     "data": {
      "text/plain": [
       "requests.models.Response"
      ]
     },
     "execution_count": 2,
     "metadata": {},
     "output_type": "execute_result"
    }
   ],
   "source": [
    "# Import `requests`\n",
    "import requests\n",
    "\n",
    "# Make the request and check object type\n",
    "r = requests.get(url)\n",
    "type(r)"
   ]
  },
  {
   "cell_type": "markdown",
   "metadata": {},
   "source": [
    "This is a `Response` object. You can see in the [`requests` kickstart guide](http://docs.python-requests.org/en/master/user/quickstart/) that a `Response` object has an attribute `text` that allows you to get the HTML from it! Let's do this and print the HTML to check it out:"
   ]
  },
  {
   "cell_type": "code",
   "execution_count": 3,
   "metadata": {},
   "outputs": [],
   "source": [
    "# Extract HTML from Response object and print\n",
    "html = r.text\n",
    "#print(html)"
   ]
  },
  {
   "cell_type": "markdown",
   "metadata": {},
   "source": [
    "OK! This HTML is not quite what you want. However, it does _contain_ what you want: the text of _Moby Dick_. What you need to do now is _wrangle_ this HTML to extract the novel. "
   ]
  },
  {
   "cell_type": "markdown",
   "metadata": {},
   "source": [
    "## 3. Wrangle the Data to Answer the Question"
   ]
  },
  {
   "cell_type": "markdown",
   "metadata": {},
   "source": [
    "### Part 1: Get the Text from the HTML"
   ]
  },
  {
   "cell_type": "markdown",
   "metadata": {},
   "source": [
    "\n",
    "Here you'll use the package [`BeautifulSoup`](https://www.crummy.com/software/BeautifulSoup/). The package website says:\n",
    "\n",
    "<img src=\"img/bs4.png\" width=\"550\">\n",
    "\n",
    "\n",
    "\n",
    "This looks promising!\n",
    "\n",
    "Firstly, a word on the name of the package: Beautiful Soup? In web development, the term \"tag soup\" refers to structurally or syntactically incorrect HTML code written for a web page. What Beautiful Soup does best is to make tag soup beautiful again and to extract information from it with ease! In fact, the main object created and queried when using this package is called `BeautifulSoup`. After creating the soup, we can use its `.get_text()` method to extract the text."
   ]
  },
  {
   "cell_type": "code",
   "execution_count": 4,
   "metadata": {},
   "outputs": [
    {
     "data": {
      "text/plain": [
       "bs4.BeautifulSoup"
      ]
     },
     "execution_count": 4,
     "metadata": {},
     "output_type": "execute_result"
    }
   ],
   "source": [
    "# Import BeautifulSoup from bs4\n",
    "from bs4 import BeautifulSoup\n",
    "\n",
    "\n",
    "# Create a BeautifulSoup object from the HTML\n",
    "soup = BeautifulSoup(html, \"html5lib\")\n",
    "type(soup)"
   ]
  },
  {
   "cell_type": "markdown",
   "metadata": {},
   "source": [
    "From these soup objects, you can extract all types of interesting information about the website you're scraping, such as title:"
   ]
  },
  {
   "cell_type": "code",
   "execution_count": 5,
   "metadata": {},
   "outputs": [
    {
     "data": {
      "text/plain": [
       "<title>\n",
       "      Moby Dick; Or the Whale, by Herman Melville\n",
       "    </title>"
      ]
     },
     "execution_count": 5,
     "metadata": {},
     "output_type": "execute_result"
    }
   ],
   "source": [
    "# Get soup title\n",
    "soup.title"
   ]
  },
  {
   "cell_type": "markdown",
   "metadata": {},
   "source": [
    "Or the title as a string:"
   ]
  },
  {
   "cell_type": "code",
   "execution_count": 6,
   "metadata": {},
   "outputs": [
    {
     "data": {
      "text/plain": [
       "'\\n      Moby Dick; Or the Whale, by Herman Melville\\n    '"
      ]
     },
     "execution_count": 6,
     "metadata": {},
     "output_type": "execute_result"
    }
   ],
   "source": [
    "# Get soup title as string\n",
    "soup.title.string"
   ]
  },
  {
   "cell_type": "markdown",
   "metadata": {},
   "source": [
    "Or all URLs found within a page’s < a > tags (hyperlinks):"
   ]
  },
  {
   "cell_type": "code",
   "execution_count": 7,
   "metadata": {},
   "outputs": [
    {
     "data": {
      "text/plain": [
       "[<a href=\"#link2H_4_0002\"> ETYMOLOGY. </a>,\n",
       " <a href=\"#link2H_4_0003\"> EXTRACTS (Supplied by a Sub-Sub-Librarian).\n",
       "         </a>,\n",
       " <a href=\"#link2HCH0001\"> CHAPTER 1. Loomings. </a>,\n",
       " <a href=\"#link2HCH0002\"> CHAPTER 2. The Carpet-Bag. </a>,\n",
       " <a href=\"#link2HCH0003\"> CHAPTER 3. The Spouter-Inn. </a>,\n",
       " <a href=\"#link2HCH0004\"> CHAPTER 4. The Counterpane. </a>,\n",
       " <a href=\"#link2HCH0005\"> CHAPTER 5. Breakfast. </a>,\n",
       " <a href=\"#link2HCH0006\"> CHAPTER 6. The Street. </a>]"
      ]
     },
     "execution_count": 7,
     "metadata": {},
     "output_type": "execute_result"
    }
   ],
   "source": [
    "# Get hyperlinks from soup and check out first several\n",
    "soup.findAll('a')[:8]"
   ]
  },
  {
   "cell_type": "markdown",
   "metadata": {},
   "source": [
    "What you want to do is to extract the text from the `soup` and there's a super helpful `.get_text()` method precisely for this. \n",
    "\n",
    "Get the text, print it out and have a look at it. Is it what you want?"
   ]
  },
  {
   "cell_type": "code",
   "execution_count": 8,
   "metadata": {},
   "outputs": [],
   "source": [
    "# Get the text out of the soup and print it\n",
    "text = soup.get_text()\n",
    "#print(text)"
   ]
  },
  {
   "cell_type": "markdown",
   "metadata": {},
   "source": [
    "Notice that this is now nearly what you want. \n",
    "\n",
    "It is the text of the novel with some unwanted stuff at the start and some unwanted stuff at the end. You could remove it if you wanted. However, this content is so much smaller in amount than the text of Moby Dick that, to a first approximation, it is fine to leave in and this will be the approach here. To get robust results, I'd suggest removing it.\n",
    "\n",
    "Now that you have the text of interest, it's time for you to count how many times each word appears and to plot the frequency histogram that you want: Natural Language Processing to the rescue!"
   ]
  },
  {
   "cell_type": "markdown",
   "metadata": {},
   "source": [
    "### Part 2: Extract Words from your Text with NLP"
   ]
  },
  {
   "cell_type": "markdown",
   "metadata": {},
   "source": [
    "You'll now use `nltk`, the Natural Language Toolkit, to\n",
    "\n",
    "1. Tokenize the text (fancy term for splitting into tokens, such as words);\n",
    "2. Remove stopwords (words such as 'a' and 'the' that occur a great deal in ~ nearly all English language texts.\n"
   ]
  },
  {
   "cell_type": "markdown",
   "metadata": {},
   "source": [
    "#### Step 1: Tokenize\n",
    "\n",
    "You want to tokenize your text, that is, split it into a list a words. Essentially, you want to split off the parts off the text that are separated by whitespaces.\n",
    "\n",
    "To do this, you're going to use a powerful tool called _regular expressions_. A regular expression, or _regex_ for short, is a _sequence of characters_ that define a _search pattern_. They are notoriously confusing and best introduced by example.\n",
    "\n",
    "* You have the string 'peter piper picked a peck of pickled peppers' and you want to extract from the list of _all_ words in it that start with a 'p'. \n",
    "\n",
    "The regular expression that matches all words beginning with 'p' is 'p\\w+'. Let's unpack this: \n",
    "\n",
    "* the 'p' at the beginning of the regular expression means that you'll only match sequences of characters that start with a 'p';\n",
    "* the '\\w' is a special character that will match any alphanumeric A-z, a-z, 0-9, along with underscores;\n",
    "* The '+' tells you that the previous character in the regex can appear as many times as you want in strings that you;re trying to match. This means that '\\w+' will match arbitrary sequences of alphanumeric characters and underscores.\n",
    "\n",
    "Put this all together and the regular expression 'p\\w+' will match all substrings that start with a 'p' and are followed by alphanumeric characters and underscores. In most English language texts that make sense, this will correspond to words beginning with 'p'.\n",
    "\n",
    "You'll now use the built-in Python package `re` to extract all words beginning with 'p' from the sentence 'peter piper picked a peck of pickled peppers' as a warm-up."
   ]
  },
  {
   "cell_type": "code",
   "execution_count": 9,
   "metadata": {},
   "outputs": [
    {
     "data": {
      "text/plain": [
       "['peter', 'piper', 'pick', 'peck', 'pickled', 'peppers']"
      ]
     },
     "execution_count": 9,
     "metadata": {},
     "output_type": "execute_result"
    }
   ],
   "source": [
    "# Import regex package\n",
    "import re\n",
    "\n",
    "# Define sentence\n",
    "sentence = 'peter piper pick a peck of pickled peppers'\n",
    "\n",
    "# Define regex\n",
    "ps = 'p\\w+'\n",
    "\n",
    "\n",
    "# Find all words in sentence that match the regex and print them\n",
    "re.findall(ps, sentence)"
   ]
  },
  {
   "cell_type": "markdown",
   "metadata": {},
   "source": [
    "This looks pretty good. Now, if 'p\\w+' is the regex that matches words beginning with 'p', what's the regex that matches all words?\n",
    "\n",
    "It's your job to now do this for our toy Peter Piper sentence above."
   ]
  },
  {
   "cell_type": "code",
   "execution_count": 10,
   "metadata": {},
   "outputs": [
    {
     "data": {
      "text/plain": [
       "['peter', 'piper', 'pick', 'a', 'peck', 'of', 'pickled', 'peppers']"
      ]
     },
     "execution_count": 10,
     "metadata": {},
     "output_type": "execute_result"
    }
   ],
   "source": [
    "# Find all words and print them\n",
    "re.findall('\\w+', sentence)"
   ]
  },
  {
   "cell_type": "markdown",
   "metadata": {},
   "source": [
    "Now you can do the same with `text`, the string that contains _Moby Dick_:"
   ]
  },
  {
   "cell_type": "code",
   "execution_count": 11,
   "metadata": {},
   "outputs": [
    {
     "data": {
      "text/plain": [
       "['Moby', 'Dick', 'Or', 'the', 'Whale', 'by', 'Herman', 'Melville']"
      ]
     },
     "execution_count": 11,
     "metadata": {},
     "output_type": "execute_result"
    }
   ],
   "source": [
    "# Find all words in Moby Dick and print several\n",
    "tokens = re.findall('\\w+', text)\n",
    "tokens[:8]"
   ]
  },
  {
   "cell_type": "markdown",
   "metadata": {},
   "source": [
    "**Note** that there is also a way to do this with `nltk`, the [Natural Language Toolkit](http://www.nltk.org/):"
   ]
  },
  {
   "cell_type": "code",
   "execution_count": 12,
   "metadata": {},
   "outputs": [
    {
     "data": {
      "text/plain": [
       "['Moby', 'Dick', 'Or', 'the', 'Whale', 'by', 'Herman', 'Melville']"
      ]
     },
     "execution_count": 12,
     "metadata": {},
     "output_type": "execute_result"
    }
   ],
   "source": [
    "# Import RegexpTokenizer from nltk.tokenize\n",
    "from nltk.tokenize import RegexpTokenizer\n",
    "\n",
    "# Create tokenizer\n",
    "tokenizer = RegexpTokenizer('\\w+')\n",
    "\n",
    "\n",
    "\n",
    "# Create tokens\n",
    "tokens = tokenizer.tokenize(text)\n",
    "tokens[:8]"
   ]
  },
  {
   "cell_type": "markdown",
   "metadata": {},
   "source": [
    "OK! You're nearly there. Note, though, that in the above, 'Or' has a capital 'O' and that in other places it may not but both 'Or' and 'or' you will want to count as the same word. For this reason, you will need to build a list of all words in _Moby Dick_ in which all capital letters have been made lower case. You'll find the string method `.lower()` handy:"
   ]
  },
  {
   "cell_type": "code",
   "execution_count": 13,
   "metadata": {},
   "outputs": [
    {
     "data": {
      "text/plain": [
       "['moby', 'dick', 'or', 'the', 'whale', 'by', 'herman', 'melville']"
      ]
     },
     "execution_count": 13,
     "metadata": {},
     "output_type": "execute_result"
    }
   ],
   "source": [
    "# Initialize new list\n",
    "words = []\n",
    "\n",
    "\n",
    "# Loop through list tokens and make lower case\n",
    "for word in tokens:\n",
    "    words.append(word.lower())\n",
    "\n",
    "\n",
    "# Print several items from list as sanity check\n",
    "words[:8]"
   ]
  },
  {
   "cell_type": "markdown",
   "metadata": {},
   "source": [
    "#### Step 2: Remove stop words\n",
    "\n",
    "It is common practice to remove words that appear alot in the English language such as 'the', 'of' and 'a' (known as stopwords) because they're not so interesting. For more on all of these techniques, check out our [Natural Language Processing Fundamentals in Python course](https://www.datacamp.com/courses/nlp-fundamentals-in-python). \n",
    "\n",
    "The package `nltk` has a list of stopwords in English which you'll now store as `sw` and of which you'll print the first several elements.\n",
    "\n",
    "If you get an error here, run the command `nltk.download('stopwords')` to install the stopwords on your system."
   ]
  },
  {
   "cell_type": "code",
   "execution_count": 15,
   "metadata": {},
   "outputs": [
    {
     "name": "stderr",
     "output_type": "stream",
     "text": [
      "[nltk_data] Downloading package stopwords to /home/rohit/nltk_data...\n",
      "[nltk_data]   Unzipping corpora/stopwords.zip.\n"
     ]
    },
    {
     "data": {
      "text/plain": [
       "True"
      ]
     },
     "execution_count": 15,
     "metadata": {},
     "output_type": "execute_result"
    }
   ],
   "source": [
    "nltk.download('stopwords')"
   ]
  },
  {
   "cell_type": "code",
   "execution_count": 17,
   "metadata": {},
   "outputs": [
    {
     "data": {
      "text/plain": [
       "['i', 'me', 'my', 'myself', 'we']"
      ]
     },
     "execution_count": 17,
     "metadata": {},
     "output_type": "execute_result"
    }
   ],
   "source": [
    "# Import nltk\n",
    "import nltk\n",
    "\n",
    "# Get English stopwords and print some of them\n",
    "sw = nltk.corpus.stopwords.words('english')\n",
    "sw[:5]"
   ]
  },
  {
   "cell_type": "markdown",
   "metadata": {},
   "source": [
    "You want the list of all words in `words` that are *not* in `sw`. One way to get this list is to loop over all elements of `words` and add the to a new list if they are *not* in `sw`:"
   ]
  },
  {
   "cell_type": "code",
   "execution_count": 18,
   "metadata": {
    "scrolled": true
   },
   "outputs": [
    {
     "data": {
      "text/plain": [
       "['moby', 'dick', 'whale', 'herman', 'melville']"
      ]
     },
     "execution_count": 18,
     "metadata": {},
     "output_type": "execute_result"
    }
   ],
   "source": [
    "# Initialize new list\n",
    "words_ns = []\n",
    "\n",
    "# Add to words_ns all words that are in words but not in sw\n",
    "for word in words:\n",
    "    if word not in sw:\n",
    "        words_ns.append(word)\n",
    "\n",
    "# Print several list items as sanity check\n",
    "words_ns[:5]"
   ]
  },
  {
   "cell_type": "markdown",
   "metadata": {},
   "source": [
    "## 4. Answer your question"
   ]
  },
  {
   "cell_type": "markdown",
   "metadata": {},
   "source": [
    "\n",
    "\n",
    "Our question was 'What are the most frequent words in the novel Moby Dick and how often do they occur?' \n",
    "\n",
    "You can now plot a frequency histogram of words in Moby Dick in two line of code using `nltk`. To do this,\n",
    "\n",
    "* You create a frequency distribution object using the function `nltk.FreqDist()`;\n",
    "* You use the `plot()` method of the resulting object."
   ]
  },
  {
   "cell_type": "code",
   "execution_count": 19,
   "metadata": {},
   "outputs": [
    {
     "data": {
      "image/png": "[encoded data removed]",
      "text/plain": [
       "<Figure size 432x288 with 1 Axes>"
      ]
     },
     "metadata": {},
     "output_type": "display_data"
    },
    {
     "data": {
      "text/plain": [
       "<matplotlib.axes._subplots.AxesSubplot at 0x7f19c90e8990>"
      ]
     },
     "execution_count": 19,
     "metadata": {},
     "output_type": "execute_result"
    }
   ],
   "source": [
    "#Import datavis libraries\n",
    "import matplotlib.pyplot as plt\n",
    "import seaborn as sns\n",
    "\n",
    "# Figures inline and set visualization style\n",
    "%matplotlib inline\n",
    "sns.set()\n",
    "\n",
    "# Create freq dist and plot\n",
    "freqdist1 = nltk.FreqDist(words_ns)\n",
    "freqdist1.plot(25)"
   ]
  },
  {
   "cell_type": "markdown",
   "metadata": {},
   "source": [
    "## 5. Present Your Solution\n",
    "\n",
    "The cool thing is that, in using `nltk` to answer our question, we actually already presented our solution in a manner that can be communicated to other: a frequency distribution plot! You can read off the most common words, along with their frequency. For example, 'whale' is the most common word in the novel (go figure), excepting stopwords, and it occurs a whopping >1200 times! "
   ]
  },
  {
   "cell_type": "markdown",
   "metadata": {},
   "source": [
    "___\n",
    "## BONUS MATERIAL"
   ]
  },
  {
   "cell_type": "markdown",
   "metadata": {},
   "source": [
    "As you have seen that there are lots of novels on Project Gutenberg, we can make these word frequency histograms of, it makes sense to write your own function that does all of this:"
   ]
  },
  {
   "cell_type": "code",
   "execution_count": 20,
   "metadata": {},
   "outputs": [],
   "source": [
    "def plot_word_freq(url):\n",
    "    \"\"\"Takes a url (from Project Gutenberg) and plots a word frequency\n",
    "    distribution\"\"\"\n",
    "    # Make the request and check object type\n",
    "    r = requests.get(url)\n",
    "    # Extract HTML from Response object and print\n",
    "    html = r.text\n",
    "    # Create a BeautifulSoup object from the HTML\n",
    "    soup = BeautifulSoup(html, \"html5lib\")\n",
    "    # Get the text out of the soup and print it\n",
    "    text = soup.get_text()\n",
    "    # Create tokenizer\n",
    "    tokenizer = RegexpTokenizer('\\w+')\n",
    "    # Create tokens\n",
    "    tokens = tokenizer.tokenize(text)\n",
    "    # Initialize new list\n",
    "    words = []\n",
    "    # Loop through list tokens and make lower case\n",
    "    for word in tokens:\n",
    "        words.append(word.lower())\n",
    "    # Get English stopwords and print some of them\n",
    "    sw = nltk.corpus.stopwords.words('english')\n",
    "    # Initialize new list\n",
    "    words_ns = []\n",
    "    # Add to words_ns all words that are in words but not in sw\n",
    "    for word in words:\n",
    "        if word not in sw:\n",
    "            words_ns.append(word)\n",
    "    # Create freq dist and plot\n",
    "    freqdist1 = nltk.FreqDist(words_ns)\n",
    "    freqdist1.plot(25)"
   ]
  },
  {
   "cell_type": "markdown",
   "metadata": {},
   "source": [
    "Now use the function to plot word frequency distributions from other texts on Project Gutenberg:"
   ]
  },
  {
   "cell_type": "markdown",
   "metadata": {},
   "source": [
    "* Pride and Prejudice:"
   ]
  },
  {
   "cell_type": "code",
   "execution_count": 21,
   "metadata": {},
   "outputs": [
    {
     "data": {
      "image/png": "[encoded data removed]",
      "text/plain": [
       "<Figure size 432x288 with 1 Axes>"
      ]
     },
     "metadata": {
      "needs_background": "light"
     },
     "output_type": "display_data"
    }
   ],
   "source": [
    "plot_word_freq('https://www.gutenberg.org/files/42671/42671-h/42671-h.htm')"
   ]
  },
  {
   "cell_type": "markdown",
   "metadata": {},
   "source": [
    "* Robinson Crusoe"
   ]
  },
  {
   "cell_type": "code",
   "execution_count": 22,
   "metadata": {},
   "outputs": [
    {
     "data": {
      "image/png": "[encoded data removed]",
      "text/plain": [
       "<Figure size 432x288 with 1 Axes>"
      ]
     },
     "metadata": {
      "needs_background": "light"
     },
     "output_type": "display_data"
    }
   ],
   "source": [
    "plot_word_freq('https://www.gutenberg.org/files/521/521-h/521-h.htm')"
   ]
  },
  {
   "cell_type": "markdown",
   "metadata": {},
   "source": [
    "* The King James Bible"
   ]
  },
  {
   "cell_type": "code",
   "execution_count": 23,
   "metadata": {
    "scrolled": true
   },
   "outputs": [
    {
     "data": {
      "image/png": "[encoded data removed]",
      "text/plain": [
       "<Figure size 432x288 with 1 Axes>"
      ]
     },
     "metadata": {
      "needs_background": "light"
     },
     "output_type": "display_data"
    }
   ],
   "source": [
    "plot_word_freq('https://www.gutenberg.org/files/10/10-h/10-h.htm')"
   ]
  }
 ],
 "metadata": {
  "kernelspec": {
   "display_name": "Python 3",
   "language": "python",
   "name": "python3"
  },
  "language_info": {
   "codemirror_mode": {
    "name": "ipython",
    "version": 3
   },
   "file_extension": ".py",
   "mimetype": "text/x-python",
   "name": "python",
   "nbconvert_exporter": "python",
   "pygments_lexer": "ipython3",
   "version": "3.7.4"
  }
 },
 "nbformat": 4,
 "nbformat_minor": 2
}
